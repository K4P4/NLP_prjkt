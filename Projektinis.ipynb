{
 "cells": [
  {
   "cell_type": "code",
   "execution_count": null,
   "metadata": {},
   "outputs": [],
   "source": []
  },
  {
   "cell_type": "code",
   "execution_count": 43,
   "metadata": {
    "scrolled": true
   },
   "outputs": [
    {
     "name": "stdout",
     "output_type": "stream",
     "text": [
      "['measures', 'regarded', 'necessary', 'democratic', 'society', 'court', 'said', 'adding', 'objective', 'child', 'protected', 'diseases', 'vaccination', 'virtue', 'herd', 'immunity', 'Czech', 'rules', 'parents', 'obliged', 'vaccinate', 'children', 'number', 'childhood', 'possible', 'health', 'reasons', 'jabs', 'given', 'unvaccinated', 'excluded', 'basis', 'reach', 'primary', 'school', 'age', 'cases', 'involving', 'pre', '-', 'exclusions', 'family', 'refused', 'allow', 'daughter', 'received', 'measles', 'mumps', 'rubella', 'MMR', 'jab', 'joined', '2006', 'place', 'withdrawn', 'years', 'doctor', 'informed', 'headteacher', 'backed', 'decision', 'grounds', 'allowing', 'continue', 'endanger', 'places', 'father', 'fined', 'failing']\n"
     ]
    }
   ],
   "source": [
    "import spacy\n",
    "nlp = spacy.load('en_core_web_sm')\n",
    "\n",
    "junk_pos=['X', 'AUX', 'PUNCT', 'ADV', 'INTJ', 'ADP', 'DET']\n",
    "\n",
    "def nonStop(token):\n",
    "    return token.is_stop == False\n",
    "    \n",
    "def nonDuplicate(token, cleaned):\n",
    "    return token.text not in cleaned\n",
    "    \n",
    "def nonJunk(token):\n",
    "    flag=True\n",
    "    if token.pos_ in junk_pos:\n",
    "        flag=False\n",
    "    return flag\n",
    "\n",
    "tekstas=\"The... measures could be regarded as being 'necessary in a democratic society' the court said, adding: The objective has to be that every child is protected against serious diseases, through vaccination or by virtue of herd immunity. Under the Czech rules, parents are legally obliged to vaccinate their children against a number of childhood diseases unless this is not possible for health reasons. However, the jabs cannot be forcibly given and unvaccinated children cannot be excluded on this basis once they reach primary school age. In one of the five cases involving pre-school exclusions, a family refused to allow their daughter to received the measles, mumps and rubella (MMR) jab. The child joined the school in 2006 but her place was withdrawn two years later when the family doctor informed the headteacher that the child had not received the vaccination. A Czech court later backed the school's decision on the grounds that allowing the child to continue to go to the pre-school could endanger others. Other parents had been refused pre-school places, while one father was fined for failing to fully vaccinate his children.\"\n",
    "\n",
    "tekstas.lower()\n",
    "\n",
    "doc = nlp(tekstas)\n",
    "\n",
    "cleaned = []\n",
    "\n",
    "string = \"\"\n",
    "\n",
    "for token in doc:\n",
    "    if nonStop(token):\n",
    "        if nonDuplicate(token, cleaned):\n",
    "            if nonJunk(token):\n",
    "                cleaned.append(token.text)\n",
    "                \n",
    "                \n",
    "print(cleaned)\n"
   ]
  },
  {
   "cell_type": "code",
   "execution_count": null,
   "metadata": {},
   "outputs": [],
   "source": []
  }
 ],
 "metadata": {
  "kernelspec": {
   "display_name": "Python 3",
   "language": "python",
   "name": "python3"
  },
  "language_info": {
   "codemirror_mode": {
    "name": "ipython",
    "version": 3
   },
   "file_extension": ".py",
   "mimetype": "text/x-python",
   "name": "python",
   "nbconvert_exporter": "python",
   "pygments_lexer": "ipython3",
   "version": "3.8.6rc1"
  }
 },
 "nbformat": 4,
 "nbformat_minor": 2
}
